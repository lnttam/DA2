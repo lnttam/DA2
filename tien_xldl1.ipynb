{
 "cells": [
  {
   "cell_type": "code",
   "execution_count": 84,
   "id": "d68c0eca",
   "metadata": {},
   "outputs": [],
   "source": [
    "import pandas as pd\n",
    "import numpy as np\n",
    "import matplotlib.pyplot as plt\n",
    "import seaborn as sns\n",
    "from sklearn.preprocessing import StandardScaler"
   ]
  },
  {
   "cell_type": "code",
   "execution_count": 85,
   "id": "c023abf5",
   "metadata": {},
   "outputs": [],
   "source": [
    "df = pd.DataFrame({ \n",
    "    'beta': np.random.beta(5, 1, 1000) * 60,        # beta\n",
    "    'exponential': np.random.exponential(10, 1000), # exponential\n",
    "    'normal_p': np.random.normal(10, 2, 1000),      # normal platykurtic\n",
    "    'normal_l': np.random.normal(10, 10, 1000),     # normal leptokurtic\n",
    "})"
   ]
  },
  {
   "cell_type": "code",
   "execution_count": 86,
   "id": "321fca0b",
   "metadata": {},
   "outputs": [],
   "source": [
    "first_half = np.random.normal(20, 3, 500) \n",
    "second_half = np.random.normal(-20, 3, 500) \n",
    "bimodal = np.concatenate([first_half, second_half])"
   ]
  },
  {
   "cell_type": "code",
   "execution_count": 87,
   "id": "3570e1a5",
   "metadata": {},
   "outputs": [],
   "source": [
    "df['bimodal'] = bimodal\n"
   ]
  },
  {
   "cell_type": "code",
   "execution_count": 88,
   "id": "49e9b452",
   "metadata": {},
   "outputs": [
    {
     "data": {
      "text/plain": [
       "<AxesSubplot:ylabel='Density'>"
      ]
     },
     "execution_count": 88,
     "metadata": {},
     "output_type": "execute_result"
    },
    {
     "data": {
      "image/png": "[encoded data removed]",
      "text/plain": [
       "<Figure size 432x288 with 1 Axes>"
      ]
     },
     "metadata": {
      "needs_background": "light"
     },
     "output_type": "display_data"
    }
   ],
   "source": [
    "sns.kdeplot(data=df)"
   ]
  },
  {
   "cell_type": "code",
   "execution_count": 89,
   "id": "ecab2d44",
   "metadata": {},
   "outputs": [
    {
     "data": {
      "text/html": [
       "<div>\n",
       "<style scoped>\n",
       "    .dataframe tbody tr th:only-of-type {\n",
       "        vertical-align: middle;\n",
       "    }\n",
       "\n",
       "    .dataframe tbody tr th {\n",
       "        vertical-align: top;\n",
       "    }\n",
       "\n",
       "    .dataframe thead th {\n",
       "        text-align: right;\n",
       "    }\n",
       "</style>\n",
       "<table border=\"1\" class=\"dataframe\">\n",
       "  <thead>\n",
       "    <tr style=\"text-align: right;\">\n",
       "      <th></th>\n",
       "      <th>beta</th>\n",
       "      <th>exponential</th>\n",
       "      <th>normal_p</th>\n",
       "      <th>normal_l</th>\n",
       "      <th>bimodal</th>\n",
       "    </tr>\n",
       "  </thead>\n",
       "  <tbody>\n",
       "    <tr>\n",
       "      <th>count</th>\n",
       "      <td>1000.000000</td>\n",
       "      <td>1000.000000</td>\n",
       "      <td>1000.000000</td>\n",
       "      <td>1000.000000</td>\n",
       "      <td>1000.000000</td>\n",
       "    </tr>\n",
       "    <tr>\n",
       "      <th>mean</th>\n",
       "      <td>49.602179</td>\n",
       "      <td>10.015595</td>\n",
       "      <td>9.995191</td>\n",
       "      <td>9.906557</td>\n",
       "      <td>-0.248818</td>\n",
       "    </tr>\n",
       "    <tr>\n",
       "      <th>std</th>\n",
       "      <td>8.889975</td>\n",
       "      <td>9.972674</td>\n",
       "      <td>1.995958</td>\n",
       "      <td>9.844066</td>\n",
       "      <td>20.094355</td>\n",
       "    </tr>\n",
       "    <tr>\n",
       "      <th>min</th>\n",
       "      <td>14.039902</td>\n",
       "      <td>0.023910</td>\n",
       "      <td>3.742497</td>\n",
       "      <td>-23.843342</td>\n",
       "      <td>-28.298109</td>\n",
       "    </tr>\n",
       "    <tr>\n",
       "      <th>25%</th>\n",
       "      <td>44.666042</td>\n",
       "      <td>2.734881</td>\n",
       "      <td>8.594069</td>\n",
       "      <td>3.278733</td>\n",
       "      <td>-20.218438</td>\n",
       "    </tr>\n",
       "    <tr>\n",
       "      <th>50%</th>\n",
       "      <td>51.999512</td>\n",
       "      <td>7.204847</td>\n",
       "      <td>10.023658</td>\n",
       "      <td>9.545420</td>\n",
       "      <td>-1.643696</td>\n",
       "    </tr>\n",
       "    <tr>\n",
       "      <th>75%</th>\n",
       "      <td>56.581307</td>\n",
       "      <td>13.836505</td>\n",
       "      <td>11.421259</td>\n",
       "      <td>16.580132</td>\n",
       "      <td>19.638487</td>\n",
       "    </tr>\n",
       "    <tr>\n",
       "      <th>max</th>\n",
       "      <td>59.991365</td>\n",
       "      <td>72.875054</td>\n",
       "      <td>15.565039</td>\n",
       "      <td>39.831392</td>\n",
       "      <td>28.213692</td>\n",
       "    </tr>\n",
       "  </tbody>\n",
       "</table>\n",
       "</div>"
      ],
      "text/plain": [
       "              beta  exponential     normal_p     normal_l      bimodal\n",
       "count  1000.000000  1000.000000  1000.000000  1000.000000  1000.000000\n",
       "mean     49.602179    10.015595     9.995191     9.906557    -0.248818\n",
       "std       8.889975     9.972674     1.995958     9.844066    20.094355\n",
       "min      14.039902     0.023910     3.742497   -23.843342   -28.298109\n",
       "25%      44.666042     2.734881     8.594069     3.278733   -20.218438\n",
       "50%      51.999512     7.204847    10.023658     9.545420    -1.643696\n",
       "75%      56.581307    13.836505    11.421259    16.580132    19.638487\n",
       "max      59.991365    72.875054    15.565039    39.831392    28.213692"
      ]
     },
     "execution_count": 89,
     "metadata": {},
     "output_type": "execute_result"
    }
   ],
   "source": [
    "df.describe()"
   ]
  },
  {
   "cell_type": "code",
   "execution_count": 90,
   "id": "43bb51ae",
   "metadata": {},
   "outputs": [
    {
     "data": {
      "text/plain": [
       "<AxesSubplot:ylabel='Density'>"
      ]
     },
     "execution_count": 90,
     "metadata": {},
     "output_type": "execute_result"
    },
    {
     "data": {
      "image/png": "[encoded data removed]",
      "text/plain": [
       "<Figure size 432x288 with 1 Axes>"
      ]
     },
     "metadata": {
      "needs_background": "light"
     },
     "output_type": "display_data"
    }
   ],
   "source": [
    "normal_big = np.random.normal(1000000, 10000, (1000,1))  # normal distribution of large values\n",
    "df['normal_big'] = normal_big\n",
    "sns.kdeplot(data=df)"
   ]
  },
  {
   "cell_type": "code",
   "execution_count": 91,
   "id": "da2e5a83",
   "metadata": {},
   "outputs": [
    {
     "data": {
      "text/plain": [
       "<AxesSubplot:>"
      ]
     },
     "execution_count": 91,
     "metadata": {},
     "output_type": "execute_result"
    },
    {
     "data": {
      "image/png": "[encoded data removed]",
      "text/plain": [
       "<Figure size 432x288 with 1 Axes>"
      ]
     },
     "metadata": {
      "needs_background": "light"
     },
     "output_type": "display_data"
    }
   ],
   "source": [
    "df.boxplot()"
   ]
  },
  {
   "cell_type": "code",
   "execution_count": 94,
   "id": "08b95438",
   "metadata": {},
   "outputs": [],
   "source": [
    "s_scaler = StandardScaler()"
   ]
  },
  {
   "cell_type": "code",
   "execution_count": 95,
   "id": "8c580edb",
   "metadata": {},
   "outputs": [],
   "source": [
    "df_s = s_scaler.fit_transform(df)"
   ]
  },
  {
   "cell_type": "code",
   "execution_count": 96,
   "id": "fa04a9c8",
   "metadata": {},
   "outputs": [],
   "source": [
    "col_names = list(df.columns)\n"
   ]
  },
  {
   "cell_type": "code",
   "execution_count": 97,
   "id": "14bd5e1d",
   "metadata": {},
   "outputs": [],
   "source": [
    "df_s = pd.DataFrame(df_s, columns=col_names)"
   ]
  },
  {
   "cell_type": "code",
   "execution_count": 98,
   "id": "71d954fd",
   "metadata": {},
   "outputs": [
    {
     "data": {
      "text/html": [
       "<div>\n",
       "<style scoped>\n",
       "    .dataframe tbody tr th:only-of-type {\n",
       "        vertical-align: middle;\n",
       "    }\n",
       "\n",
       "    .dataframe tbody tr th {\n",
       "        vertical-align: top;\n",
       "    }\n",
       "\n",
       "    .dataframe thead th {\n",
       "        text-align: right;\n",
       "    }\n",
       "</style>\n",
       "<table border=\"1\" class=\"dataframe\">\n",
       "  <thead>\n",
       "    <tr style=\"text-align: right;\">\n",
       "      <th></th>\n",
       "      <th>beta</th>\n",
       "      <th>exponential</th>\n",
       "      <th>normal_p</th>\n",
       "      <th>normal_l</th>\n",
       "      <th>bimodal</th>\n",
       "      <th>normal_big</th>\n",
       "    </tr>\n",
       "  </thead>\n",
       "  <tbody>\n",
       "    <tr>\n",
       "      <th>0</th>\n",
       "      <td>0.110110</td>\n",
       "      <td>-0.136654</td>\n",
       "      <td>0.125176</td>\n",
       "      <td>-0.995202</td>\n",
       "      <td>1.143595</td>\n",
       "      <td>-0.695458</td>\n",
       "    </tr>\n",
       "    <tr>\n",
       "      <th>1</th>\n",
       "      <td>-0.443097</td>\n",
       "      <td>1.284945</td>\n",
       "      <td>0.863453</td>\n",
       "      <td>1.975945</td>\n",
       "      <td>1.095532</td>\n",
       "      <td>-1.461567</td>\n",
       "    </tr>\n",
       "    <tr>\n",
       "      <th>2</th>\n",
       "      <td>-1.408021</td>\n",
       "      <td>0.970007</td>\n",
       "      <td>0.003937</td>\n",
       "      <td>0.132121</td>\n",
       "      <td>0.988858</td>\n",
       "      <td>-2.984330</td>\n",
       "    </tr>\n",
       "    <tr>\n",
       "      <th>3</th>\n",
       "      <td>-0.027134</td>\n",
       "      <td>0.617722</td>\n",
       "      <td>-0.384015</td>\n",
       "      <td>0.748455</td>\n",
       "      <td>1.164482</td>\n",
       "      <td>-0.737170</td>\n",
       "    </tr>\n",
       "    <tr>\n",
       "      <th>4</th>\n",
       "      <td>-0.113471</td>\n",
       "      <td>-0.581061</td>\n",
       "      <td>0.624941</td>\n",
       "      <td>-1.229237</td>\n",
       "      <td>1.137824</td>\n",
       "      <td>-1.022896</td>\n",
       "    </tr>\n",
       "  </tbody>\n",
       "</table>\n",
       "</div>"
      ],
      "text/plain": [
       "       beta  exponential  normal_p  normal_l   bimodal  normal_big\n",
       "0  0.110110    -0.136654  0.125176 -0.995202  1.143595   -0.695458\n",
       "1 -0.443097     1.284945  0.863453  1.975945  1.095532   -1.461567\n",
       "2 -1.408021     0.970007  0.003937  0.132121  0.988858   -2.984330\n",
       "3 -0.027134     0.617722 -0.384015  0.748455  1.164482   -0.737170\n",
       "4 -0.113471    -0.581061  0.624941 -1.229237  1.137824   -1.022896"
      ]
     },
     "execution_count": 98,
     "metadata": {},
     "output_type": "execute_result"
    }
   ],
   "source": [
    "df_s.head()"
   ]
  },
  {
   "cell_type": "code",
   "execution_count": 99,
   "id": "8a76112a",
   "metadata": {},
   "outputs": [
    {
     "data": {
      "text/plain": [
       "<AxesSubplot:ylabel='Density'>"
      ]
     },
     "execution_count": 99,
     "metadata": {},
     "output_type": "execute_result"
    },
    {
     "data": {
      "image/png": "[encoded data removed]",
      "text/plain": [
       "<Figure size 432x288 with 1 Axes>"
      ]
     },
     "metadata": {
      "needs_background": "light"
     },
     "output_type": "display_data"
    }
   ],
   "source": [
    "sns.kdeplot(data=df_s)"
   ]
  },
  {
   "cell_type": "code",
   "execution_count": 100,
   "id": "8f68e1dd",
   "metadata": {},
   "outputs": [
    {
     "data": {
      "text/html": [
       "<div>\n",
       "<style scoped>\n",
       "    .dataframe tbody tr th:only-of-type {\n",
       "        vertical-align: middle;\n",
       "    }\n",
       "\n",
       "    .dataframe tbody tr th {\n",
       "        vertical-align: top;\n",
       "    }\n",
       "\n",
       "    .dataframe thead th {\n",
       "        text-align: right;\n",
       "    }\n",
       "</style>\n",
       "<table border=\"1\" class=\"dataframe\">\n",
       "  <thead>\n",
       "    <tr style=\"text-align: right;\">\n",
       "      <th></th>\n",
       "      <th>beta</th>\n",
       "      <th>exponential</th>\n",
       "      <th>normal_p</th>\n",
       "      <th>normal_l</th>\n",
       "      <th>bimodal</th>\n",
       "      <th>normal_big</th>\n",
       "    </tr>\n",
       "  </thead>\n",
       "  <tbody>\n",
       "    <tr>\n",
       "      <th>count</th>\n",
       "      <td>1.000000e+03</td>\n",
       "      <td>1.000000e+03</td>\n",
       "      <td>1.000000e+03</td>\n",
       "      <td>1.000000e+03</td>\n",
       "      <td>1.000000e+03</td>\n",
       "      <td>1.000000e+03</td>\n",
       "    </tr>\n",
       "    <tr>\n",
       "      <th>mean</th>\n",
       "      <td>-8.293366e-17</td>\n",
       "      <td>1.239009e-16</td>\n",
       "      <td>7.204237e-16</td>\n",
       "      <td>4.229950e-17</td>\n",
       "      <td>-1.091349e-15</td>\n",
       "      <td>1.165998e-14</td>\n",
       "    </tr>\n",
       "    <tr>\n",
       "      <th>std</th>\n",
       "      <td>1.000500e+00</td>\n",
       "      <td>1.000500e+00</td>\n",
       "      <td>1.000500e+00</td>\n",
       "      <td>1.000500e+00</td>\n",
       "      <td>1.000500e+00</td>\n",
       "      <td>1.000500e+00</td>\n",
       "    </tr>\n",
       "    <tr>\n",
       "      <th>min</th>\n",
       "      <td>-4.002269e+00</td>\n",
       "      <td>-1.002408e+00</td>\n",
       "      <td>-3.134246e+00</td>\n",
       "      <td>-3.430167e+00</td>\n",
       "      <td>-1.396578e+00</td>\n",
       "      <td>-3.620148e+00</td>\n",
       "    </tr>\n",
       "    <tr>\n",
       "      <th>25%</th>\n",
       "      <td>-5.555254e-01</td>\n",
       "      <td>-7.304317e-01</td>\n",
       "      <td>-7.023310e-01</td>\n",
       "      <td>-6.736180e-01</td>\n",
       "      <td>-9.942898e-01</td>\n",
       "      <td>-6.732844e-01</td>\n",
       "    </tr>\n",
       "    <tr>\n",
       "      <th>50%</th>\n",
       "      <td>2.698020e-01</td>\n",
       "      <td>-2.819860e-01</td>\n",
       "      <td>1.426993e-02</td>\n",
       "      <td>-3.670409e-02</td>\n",
       "      <td>-6.945112e-02</td>\n",
       "      <td>-7.553737e-02</td>\n",
       "    </tr>\n",
       "    <tr>\n",
       "      <th>75%</th>\n",
       "      <td>7.854488e-01</td>\n",
       "      <td>3.833297e-01</td>\n",
       "      <td>7.148358e-01</td>\n",
       "      <td>6.782680e-01</td>\n",
       "      <td>9.901913e-01</td>\n",
       "      <td>6.792867e-01</td>\n",
       "    </tr>\n",
       "    <tr>\n",
       "      <th>max</th>\n",
       "      <td>1.169225e+00</td>\n",
       "      <td>6.306324e+00</td>\n",
       "      <td>2.791961e+00</td>\n",
       "      <td>3.041407e+00</td>\n",
       "      <td>1.417152e+00</td>\n",
       "      <td>3.712954e+00</td>\n",
       "    </tr>\n",
       "  </tbody>\n",
       "</table>\n",
       "</div>"
      ],
      "text/plain": [
       "               beta   exponential      normal_p      normal_l       bimodal  \\\n",
       "count  1.000000e+03  1.000000e+03  1.000000e+03  1.000000e+03  1.000000e+03   \n",
       "mean  -8.293366e-17  1.239009e-16  7.204237e-16  4.229950e-17 -1.091349e-15   \n",
       "std    1.000500e+00  1.000500e+00  1.000500e+00  1.000500e+00  1.000500e+00   \n",
       "min   -4.002269e+00 -1.002408e+00 -3.134246e+00 -3.430167e+00 -1.396578e+00   \n",
       "25%   -5.555254e-01 -7.304317e-01 -7.023310e-01 -6.736180e-01 -9.942898e-01   \n",
       "50%    2.698020e-01 -2.819860e-01  1.426993e-02 -3.670409e-02 -6.945112e-02   \n",
       "75%    7.854488e-01  3.833297e-01  7.148358e-01  6.782680e-01  9.901913e-01   \n",
       "max    1.169225e+00  6.306324e+00  2.791961e+00  3.041407e+00  1.417152e+00   \n",
       "\n",
       "         normal_big  \n",
       "count  1.000000e+03  \n",
       "mean   1.165998e-14  \n",
       "std    1.000500e+00  \n",
       "min   -3.620148e+00  \n",
       "25%   -6.732844e-01  \n",
       "50%   -7.553737e-02  \n",
       "75%    6.792867e-01  \n",
       "max    3.712954e+00  "
      ]
     },
     "execution_count": 100,
     "metadata": {},
     "output_type": "execute_result"
    }
   ],
   "source": [
    "df_s.describe()"
   ]
  },
  {
   "cell_type": "code",
   "execution_count": 101,
   "id": "5fe0eca3",
   "metadata": {},
   "outputs": [
    {
     "data": {
      "text/plain": [
       "<AxesSubplot:>"
      ]
     },
     "execution_count": 101,
     "metadata": {},
     "output_type": "execute_result"
    },
    {
     "data": {
      "image/png": "[encoded data removed]",
      "text/plain": [
       "<Figure size 432x288 with 1 Axes>"
      ]
     },
     "metadata": {
      "needs_background": "light"
     },
     "output_type": "display_data"
    }
   ],
   "source": [
    "df_s.boxplot()"
   ]
  },
  {
   "cell_type": "code",
   "execution_count": null,
   "id": "d8bee2d4",
   "metadata": {},
   "outputs": [],
   "source": []
  }
 ],
 "metadata": {
  "kernelspec": {
   "display_name": "Python 3 (ipykernel)",
   "language": "python",
   "name": "python3"
  },
  "language_info": {
   "codemirror_mode": {
    "name": "ipython",
    "version": 3
   },
   "file_extension": ".py",
   "mimetype": "text/x-python",
   "name": "python",
   "nbconvert_exporter": "python",
   "pygments_lexer": "ipython3",
   "version": "3.9.12"
  }
 },
 "nbformat": 4,
 "nbformat_minor": 5
}
